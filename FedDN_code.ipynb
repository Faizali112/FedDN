{
 "cells": [
  {
   "cell_type": "markdown",
   "metadata": {
    "id": "e_Z-2_GV9AYc"
   },
   "source": [
    "fedDN"
   ]
  },
  {
   "cell_type": "code",
   "execution_count": null,
   "metadata": {
    "colab": {
     "base_uri": "https://localhost:8080/",
     "height": 1000
    },
    "id": "0BcY1LRqZ4kl",
    "outputId": "8f914f4e-8de3-4bc8-f0ff-d81fe3897819"
   },
   "outputs": [
    {
     "name": "stderr",
     "output_type": "stream",
     "text": [
      "Federated Rounds:   2%|▏         | 1/50 [00:22<18:21, 22.47s/it]"
     ]
    },
    {
     "name": "stdout",
     "output_type": "stream",
     "text": [
      "Round 1 | Val Acc: 17.00% | Val Loss: 2.2751 | Test Acc: 16.76% | Test Loss: 2.2767 | Round Time: 15.280s | Active Neurons: 19.96% | Drop Rate: 0.33\n"
     ]
    },
    {
     "name": "stderr",
     "output_type": "stream",
     "text": [
      "\r",
      "Federated Rounds:   4%|▍         | 2/50 [00:44<17:32, 21.93s/it]"
     ]
    },
    {
     "name": "stdout",
     "output_type": "stream",
     "text": [
      "Round 2 | Val Acc: 30.64% | Val Loss: 2.1887 | Test Acc: 29.94% | Test Loss: 2.1913 | Round Time: 14.517s | Active Neurons: 20.00% | Drop Rate: 0.36\n"
     ]
    },
    {
     "name": "stderr",
     "output_type": "stream",
     "text": [
      "\r",
      "Federated Rounds:   6%|▌         | 3/50 [01:06<17:14, 22.02s/it]"
     ]
    },
    {
     "name": "stdout",
     "output_type": "stream",
     "text": [
      "Round 3 | Val Acc: 49.52% | Val Loss: 2.0652 | Test Acc: 49.74% | Test Loss: 2.0645 | Round Time: 14.322s | Active Neurons: 20.00% | Drop Rate: 0.40\n"
     ]
    },
    {
     "name": "stderr",
     "output_type": "stream",
     "text": [
      "\r",
      "Federated Rounds:   8%|▊         | 4/50 [01:27<16:38, 21.70s/it]"
     ]
    },
    {
     "name": "stdout",
     "output_type": "stream",
     "text": [
      "Round 4 | Val Acc: 52.50% | Val Loss: 1.9240 | Test Acc: 52.68% | Test Loss: 1.9215 | Round Time: 14.317s | Active Neurons: 19.99% | Drop Rate: 0.44\n"
     ]
    },
    {
     "name": "stderr",
     "output_type": "stream",
     "text": [
      "\r",
      "Federated Rounds:  10%|█         | 5/50 [01:50<16:47, 22.38s/it]"
     ]
    },
    {
     "name": "stdout",
     "output_type": "stream",
     "text": [
      "Round 5 | Val Acc: 56.22% | Val Loss: 1.7543 | Test Acc: 56.34% | Test Loss: 1.7538 | Round Time: 16.045s | Active Neurons: 20.00% | Drop Rate: 0.48\n"
     ]
    },
    {
     "name": "stderr",
     "output_type": "stream",
     "text": [
      "\r",
      "Federated Rounds:  12%|█▏        | 6/50 [02:13<16:26, 22.43s/it]"
     ]
    },
    {
     "name": "stdout",
     "output_type": "stream",
     "text": [
      "Round 6 | Val Acc: 60.86% | Val Loss: 1.6171 | Test Acc: 61.00% | Test Loss: 1.6155 | Round Time: 14.672s | Active Neurons: 19.99% | Drop Rate: 0.53\n"
     ]
    },
    {
     "name": "stderr",
     "output_type": "stream",
     "text": [
      "\r",
      "Federated Rounds:  14%|█▍        | 7/50 [02:34<15:49, 22.08s/it]"
     ]
    },
    {
     "name": "stdout",
     "output_type": "stream",
     "text": [
      "Round 7 | Val Acc: 61.74% | Val Loss: 1.5076 | Test Acc: 61.34% | Test Loss: 1.5032 | Round Time: 14.433s | Active Neurons: 20.00% | Drop Rate: 0.58\n"
     ]
    },
    {
     "name": "stderr",
     "output_type": "stream",
     "text": [
      "\r",
      "Federated Rounds:  16%|█▌        | 8/50 [02:57<15:32, 22.19s/it]"
     ]
    },
    {
     "name": "stdout",
     "output_type": "stream",
     "text": [
      "Round 8 | Val Acc: 64.06% | Val Loss: 1.3964 | Test Acc: 63.86% | Test Loss: 1.3941 | Round Time: 14.567s | Active Neurons: 19.99% | Drop Rate: 0.64\n"
     ]
    },
    {
     "name": "stderr",
     "output_type": "stream",
     "text": [
      "\r",
      "Federated Rounds:  18%|█▊        | 9/50 [03:19<15:08, 22.15s/it]"
     ]
    },
    {
     "name": "stdout",
     "output_type": "stream",
     "text": [
      "Round 9 | Val Acc: 63.90% | Val Loss: 1.3201 | Test Acc: 64.04% | Test Loss: 1.3177 | Round Time: 14.541s | Active Neurons: 20.00% | Drop Rate: 0.61\n"
     ]
    },
    {
     "name": "stderr",
     "output_type": "stream",
     "text": [
      "\r",
      "Federated Rounds:  20%|██        | 10/50 [03:48<16:07, 24.18s/it]"
     ]
    },
    {
     "name": "stdout",
     "output_type": "stream",
     "text": [
      "Round 10 | Val Acc: 66.46% | Val Loss: 1.2521 | Test Acc: 66.60% | Test Loss: 1.2497 | Round Time: 20.880s | Active Neurons: 19.97% | Drop Rate: 0.67\n"
     ]
    },
    {
     "name": "stderr",
     "output_type": "stream",
     "text": [
      "\r",
      "Federated Rounds:  22%|██▏       | 11/50 [04:09<15:06, 23.25s/it]"
     ]
    },
    {
     "name": "stdout",
     "output_type": "stream",
     "text": [
      "Round 11 | Val Acc: 67.22% | Val Loss: 1.1997 | Test Acc: 67.80% | Test Loss: 1.1968 | Round Time: 14.267s | Active Neurons: 19.97% | Drop Rate: 0.74\n"
     ]
    },
    {
     "name": "stderr",
     "output_type": "stream",
     "text": [
      "\r",
      "Federated Rounds:  24%|██▍       | 12/50 [04:31<14:34, 23.01s/it]"
     ]
    },
    {
     "name": "stdout",
     "output_type": "stream",
     "text": [
      "Round 12 | Val Acc: 66.52% | Val Loss: 1.1542 | Test Acc: 65.96% | Test Loss: 1.1516 | Round Time: 14.518s | Active Neurons: 19.99% | Drop Rate: 0.70\n"
     ]
    },
    {
     "name": "stderr",
     "output_type": "stream",
     "text": [
      "\r",
      "Federated Rounds:  26%|██▌       | 13/50 [04:53<14:00, 22.71s/it]"
     ]
    },
    {
     "name": "stdout",
     "output_type": "stream",
     "text": [
      "Round 13 | Val Acc: 68.64% | Val Loss: 1.1080 | Test Acc: 68.70% | Test Loss: 1.1059 | Round Time: 14.633s | Active Neurons: 19.99% | Drop Rate: 0.77\n"
     ]
    },
    {
     "name": "stderr",
     "output_type": "stream",
     "text": [
      "\r",
      "Federated Rounds:  28%|██▊       | 14/50 [05:15<13:24, 22.35s/it]"
     ]
    },
    {
     "name": "stdout",
     "output_type": "stream",
     "text": [
      "Round 14 | Val Acc: 68.42% | Val Loss: 1.0769 | Test Acc: 68.32% | Test Loss: 1.0734 | Round Time: 14.551s | Active Neurons: 19.97% | Drop Rate: 0.73\n"
     ]
    },
    {
     "name": "stderr",
     "output_type": "stream",
     "text": [
      "\r",
      "Federated Rounds:  30%|███       | 15/50 [05:39<13:22, 22.94s/it]"
     ]
    },
    {
     "name": "stdout",
     "output_type": "stream",
     "text": [
      "Round 15 | Val Acc: 69.44% | Val Loss: 1.0310 | Test Acc: 69.66% | Test Loss: 1.0305 | Round Time: 16.499s | Active Neurons: 19.99% | Drop Rate: 0.80\n"
     ]
    },
    {
     "name": "stderr",
     "output_type": "stream",
     "text": [
      "\r",
      "Federated Rounds:  32%|███▏      | 16/50 [06:01<12:47, 22.56s/it]"
     ]
    },
    {
     "name": "stdout",
     "output_type": "stream",
     "text": [
      "Round 16 | Val Acc: 69.36% | Val Loss: 1.0105 | Test Acc: 69.58% | Test Loss: 1.0085 | Round Time: 14.274s | Active Neurons: 19.97% | Drop Rate: 0.76\n"
     ]
    },
    {
     "name": "stderr",
     "output_type": "stream",
     "text": [
      "\r",
      "Federated Rounds:  34%|███▍      | 17/50 [06:28<13:13, 24.05s/it]"
     ]
    },
    {
     "name": "stdout",
     "output_type": "stream",
     "text": [
      "Round 17 | Val Acc: 69.92% | Val Loss: 0.9804 | Test Acc: 69.84% | Test Loss: 0.9783 | Round Time: 19.676s | Active Neurons: 19.96% | Drop Rate: 0.80\n"
     ]
    },
    {
     "name": "stderr",
     "output_type": "stream",
     "text": [
      "\r",
      "Federated Rounds:  36%|███▌      | 18/50 [06:53<13:00, 24.40s/it]"
     ]
    },
    {
     "name": "stdout",
     "output_type": "stream",
     "text": [
      "Round 18 | Val Acc: 70.54% | Val Loss: 0.9568 | Test Acc: 70.88% | Test Loss: 0.9544 | Round Time: 18.360s | Active Neurons: 19.99% | Drop Rate: 0.80\n"
     ]
    },
    {
     "name": "stderr",
     "output_type": "stream",
     "text": [
      "\r",
      "Federated Rounds:  38%|███▊      | 19/50 [07:18<12:34, 24.32s/it]"
     ]
    },
    {
     "name": "stdout",
     "output_type": "stream",
     "text": [
      "Round 19 | Val Acc: 72.50% | Val Loss: 0.9344 | Test Acc: 73.16% | Test Loss: 0.9325 | Round Time: 16.976s | Active Neurons: 20.00% | Drop Rate: 0.80\n"
     ]
    },
    {
     "name": "stderr",
     "output_type": "stream",
     "text": [
      "\r",
      "Federated Rounds:  40%|████      | 20/50 [07:40<11:54, 23.80s/it]"
     ]
    },
    {
     "name": "stdout",
     "output_type": "stream",
     "text": [
      "Round 20 | Val Acc: 71.84% | Val Loss: 0.9102 | Test Acc: 72.24% | Test Loss: 0.9132 | Round Time: 14.612s | Active Neurons: 20.00% | Drop Rate: 0.76\n"
     ]
    },
    {
     "name": "stderr",
     "output_type": "stream",
     "text": [
      "\r",
      "Federated Rounds:  42%|████▏     | 21/50 [08:03<11:24, 23.60s/it]"
     ]
    },
    {
     "name": "stdout",
     "output_type": "stream",
     "text": [
      "Round 21 | Val Acc: 72.10% | Val Loss: 0.8958 | Test Acc: 72.06% | Test Loss: 0.8933 | Round Time: 15.815s | Active Neurons: 20.00% | Drop Rate: 0.72\n"
     ]
    },
    {
     "name": "stderr",
     "output_type": "stream",
     "text": [
      "\r",
      "Federated Rounds:  44%|████▍     | 22/50 [08:27<11:01, 23.62s/it]"
     ]
    },
    {
     "name": "stdout",
     "output_type": "stream",
     "text": [
      "Round 22 | Val Acc: 73.72% | Val Loss: 0.8629 | Test Acc: 73.84% | Test Loss: 0.8626 | Round Time: 15.661s | Active Neurons: 20.00% | Drop Rate: 0.79\n"
     ]
    },
    {
     "name": "stderr",
     "output_type": "stream",
     "text": [
      "\r",
      "Federated Rounds:  46%|████▌     | 23/50 [08:50<10:29, 23.32s/it]"
     ]
    },
    {
     "name": "stdout",
     "output_type": "stream",
     "text": [
      "Round 23 | Val Acc: 73.36% | Val Loss: 0.8491 | Test Acc: 73.86% | Test Loss: 0.8489 | Round Time: 14.674s | Active Neurons: 19.99% | Drop Rate: 0.75\n"
     ]
    },
    {
     "name": "stderr",
     "output_type": "stream",
     "text": [
      "\r",
      "Federated Rounds:  48%|████▊     | 24/50 [09:12<09:57, 22.98s/it]"
     ]
    },
    {
     "name": "stdout",
     "output_type": "stream",
     "text": [
      "Round 24 | Val Acc: 73.02% | Val Loss: 0.8469 | Test Acc: 73.12% | Test Loss: 0.8434 | Round Time: 14.609s | Active Neurons: 20.00% | Drop Rate: 0.72\n"
     ]
    },
    {
     "name": "stderr",
     "output_type": "stream",
     "text": [
      "\r",
      "Federated Rounds:  50%|█████     | 25/50 [09:33<09:25, 22.61s/it]"
     ]
    },
    {
     "name": "stdout",
     "output_type": "stream",
     "text": [
      "Round 25 | Val Acc: 74.92% | Val Loss: 0.8239 | Test Acc: 75.48% | Test Loss: 0.8195 | Round Time: 14.864s | Active Neurons: 20.00% | Drop Rate: 0.79\n"
     ]
    },
    {
     "name": "stderr",
     "output_type": "stream",
     "text": [
      "\r",
      "Federated Rounds:  52%|█████▏    | 26/50 [09:56<09:01, 22.58s/it]"
     ]
    },
    {
     "name": "stdout",
     "output_type": "stream",
     "text": [
      "Round 26 | Val Acc: 75.20% | Val Loss: 0.8026 | Test Acc: 74.96% | Test Loss: 0.7990 | Round Time: 14.675s | Active Neurons: 20.00% | Drop Rate: 0.80\n"
     ]
    },
    {
     "name": "stderr",
     "output_type": "stream",
     "text": [
      "\r",
      "Federated Rounds:  54%|█████▍    | 27/50 [10:19<08:39, 22.57s/it]"
     ]
    },
    {
     "name": "stdout",
     "output_type": "stream",
     "text": [
      "Round 27 | Val Acc: 74.36% | Val Loss: 0.7923 | Test Acc: 73.58% | Test Loss: 0.7918 | Round Time: 15.086s | Active Neurons: 19.99% | Drop Rate: 0.76\n"
     ]
    },
    {
     "name": "stderr",
     "output_type": "stream",
     "text": [
      "\r",
      "Federated Rounds:  56%|█████▌    | 28/50 [10:42<08:22, 22.85s/it]"
     ]
    },
    {
     "name": "stdout",
     "output_type": "stream",
     "text": [
      "Round 28 | Val Acc: 75.74% | Val Loss: 0.7646 | Test Acc: 75.62% | Test Loss: 0.7662 | Round Time: 15.253s | Active Neurons: 19.97% | Drop Rate: 0.80\n"
     ]
    },
    {
     "name": "stderr",
     "output_type": "stream",
     "text": [
      "\r",
      "Federated Rounds:  58%|█████▊    | 29/50 [11:05<07:59, 22.83s/it]"
     ]
    },
    {
     "name": "stdout",
     "output_type": "stream",
     "text": [
      "Round 29 | Val Acc: 76.32% | Val Loss: 0.7546 | Test Acc: 75.50% | Test Loss: 0.7561 | Round Time: 14.738s | Active Neurons: 20.00% | Drop Rate: 0.80\n"
     ]
    },
    {
     "name": "stderr",
     "output_type": "stream",
     "text": [
      "\r",
      "Federated Rounds:  60%|██████    | 30/50 [11:26<07:29, 22.47s/it]"
     ]
    },
    {
     "name": "stdout",
     "output_type": "stream",
     "text": [
      "Round 30 | Val Acc: 75.88% | Val Loss: 0.7598 | Test Acc: 75.48% | Test Loss: 0.7560 | Round Time: 14.683s | Active Neurons: 19.97% | Drop Rate: 0.76\n"
     ]
    },
    {
     "name": "stderr",
     "output_type": "stream",
     "text": [
      "\r",
      "Federated Rounds:  62%|██████▏   | 31/50 [11:49<07:10, 22.64s/it]"
     ]
    },
    {
     "name": "stdout",
     "output_type": "stream",
     "text": [
      "Round 31 | Val Acc: 77.72% | Val Loss: 0.7332 | Test Acc: 77.14% | Test Loss: 0.7299 | Round Time: 15.218s | Active Neurons: 19.97% | Drop Rate: 0.80\n"
     ]
    },
    {
     "name": "stderr",
     "output_type": "stream",
     "text": [
      "\r",
      "Federated Rounds:  64%|██████▍   | 32/50 [12:12<06:47, 22.62s/it]"
     ]
    },
    {
     "name": "stdout",
     "output_type": "stream",
     "text": [
      "Round 32 | Val Acc: 78.58% | Val Loss: 0.7279 | Test Acc: 78.40% | Test Loss: 0.7265 | Round Time: 14.589s | Active Neurons: 19.99% | Drop Rate: 0.80\n"
     ]
    },
    {
     "name": "stderr",
     "output_type": "stream",
     "text": [
      "\r",
      "Federated Rounds:  66%|██████▌   | 33/50 [12:34<06:18, 22.27s/it]"
     ]
    },
    {
     "name": "stdout",
     "output_type": "stream",
     "text": [
      "Round 33 | Val Acc: 77.00% | Val Loss: 0.7233 | Test Acc: 76.26% | Test Loss: 0.7206 | Round Time: 14.484s | Active Neurons: 19.99% | Drop Rate: 0.76\n"
     ]
    },
    {
     "name": "stderr",
     "output_type": "stream",
     "text": [
      "\r",
      "Federated Rounds:  68%|██████▊   | 34/50 [12:56<05:56, 22.28s/it]"
     ]
    },
    {
     "name": "stdout",
     "output_type": "stream",
     "text": [
      "Round 34 | Val Acc: 78.70% | Val Loss: 0.6920 | Test Acc: 78.24% | Test Loss: 0.6914 | Round Time: 14.726s | Active Neurons: 20.00% | Drop Rate: 0.80\n"
     ]
    },
    {
     "name": "stderr",
     "output_type": "stream",
     "text": [
      "\r",
      "Federated Rounds:  70%|███████   | 35/50 [13:18<05:35, 22.37s/it]"
     ]
    },
    {
     "name": "stdout",
     "output_type": "stream",
     "text": [
      "Round 35 | Val Acc: 78.00% | Val Loss: 0.6996 | Test Acc: 77.16% | Test Loss: 0.6957 | Round Time: 14.575s | Active Neurons: 20.00% | Drop Rate: 0.76\n"
     ]
    },
    {
     "name": "stderr",
     "output_type": "stream",
     "text": [
      "\r",
      "Federated Rounds:  72%|███████▏  | 36/50 [13:40<05:09, 22.09s/it]"
     ]
    },
    {
     "name": "stdout",
     "output_type": "stream",
     "text": [
      "Round 36 | Val Acc: 79.80% | Val Loss: 0.6794 | Test Acc: 79.30% | Test Loss: 0.6808 | Round Time: 14.530s | Active Neurons: 19.97% | Drop Rate: 0.80\n"
     ]
    },
    {
     "name": "stderr",
     "output_type": "stream",
     "text": [
      "\r",
      "Federated Rounds:  74%|███████▍  | 37/50 [14:02<04:48, 22.17s/it]"
     ]
    },
    {
     "name": "stdout",
     "output_type": "stream",
     "text": [
      "Round 37 | Val Acc: 79.66% | Val Loss: 0.6621 | Test Acc: 79.10% | Test Loss: 0.6609 | Round Time: 14.483s | Active Neurons: 20.00% | Drop Rate: 0.76\n"
     ]
    },
    {
     "name": "stderr",
     "output_type": "stream",
     "text": [
      "\r",
      "Federated Rounds:  76%|███████▌  | 38/50 [14:25<04:27, 22.26s/it]"
     ]
    },
    {
     "name": "stdout",
     "output_type": "stream",
     "text": [
      "Round 38 | Val Acc: 79.84% | Val Loss: 0.6696 | Test Acc: 79.86% | Test Loss: 0.6643 | Round Time: 14.554s | Active Neurons: 20.00% | Drop Rate: 0.80\n"
     ]
    },
    {
     "name": "stderr",
     "output_type": "stream",
     "text": [
      "\r",
      "Federated Rounds:  78%|███████▊  | 39/50 [14:46<04:02, 22.06s/it]"
     ]
    },
    {
     "name": "stdout",
     "output_type": "stream",
     "text": [
      "Round 39 | Val Acc: 78.26% | Val Loss: 0.6633 | Test Acc: 77.68% | Test Loss: 0.6617 | Round Time: 14.570s | Active Neurons: 19.99% | Drop Rate: 0.76\n"
     ]
    },
    {
     "name": "stderr",
     "output_type": "stream",
     "text": [
      "\r",
      "Federated Rounds:  80%|████████  | 40/50 [15:09<03:42, 22.22s/it]"
     ]
    },
    {
     "name": "stdout",
     "output_type": "stream",
     "text": [
      "Round 40 | Val Acc: 80.18% | Val Loss: 0.6431 | Test Acc: 79.62% | Test Loss: 0.6427 | Round Time: 14.597s | Active Neurons: 20.00% | Drop Rate: 0.80\n"
     ]
    },
    {
     "name": "stderr",
     "output_type": "stream",
     "text": [
      "\r",
      "Federated Rounds:  82%|████████▏ | 41/50 [15:32<03:22, 22.54s/it]"
     ]
    },
    {
     "name": "stdout",
     "output_type": "stream",
     "text": [
      "Round 41 | Val Acc: 81.66% | Val Loss: 0.6219 | Test Acc: 81.28% | Test Loss: 0.6210 | Round Time: 15.737s | Active Neurons: 19.99% | Drop Rate: 0.80\n"
     ]
    },
    {
     "name": "stderr",
     "output_type": "stream",
     "text": [
      "\r",
      "Federated Rounds:  84%|████████▍ | 42/50 [15:55<03:01, 22.66s/it]"
     ]
    },
    {
     "name": "stdout",
     "output_type": "stream",
     "text": [
      "Round 42 | Val Acc: 81.42% | Val Loss: 0.6227 | Test Acc: 80.86% | Test Loss: 0.6192 | Round Time: 15.064s | Active Neurons: 19.97% | Drop Rate: 0.76\n"
     ]
    },
    {
     "name": "stderr",
     "output_type": "stream",
     "text": [
      "\r",
      "Federated Rounds:  86%|████████▌ | 43/50 [16:17<02:38, 22.57s/it]"
     ]
    },
    {
     "name": "stdout",
     "output_type": "stream",
     "text": [
      "Round 43 | Val Acc: 81.02% | Val Loss: 0.6170 | Test Acc: 81.00% | Test Loss: 0.6126 | Round Time: 14.507s | Active Neurons: 19.99% | Drop Rate: 0.72\n"
     ]
    },
    {
     "name": "stderr",
     "output_type": "stream",
     "text": [
      "\r",
      "Federated Rounds:  88%|████████▊ | 44/50 [16:39<02:14, 22.39s/it]"
     ]
    },
    {
     "name": "stdout",
     "output_type": "stream",
     "text": [
      "Round 44 | Val Acc: 82.30% | Val Loss: 0.6031 | Test Acc: 81.74% | Test Loss: 0.5999 | Round Time: 14.438s | Active Neurons: 20.00% | Drop Rate: 0.79\n"
     ]
    },
    {
     "name": "stderr",
     "output_type": "stream",
     "text": [
      "\r",
      "Federated Rounds:  90%|█████████ | 45/50 [17:02<01:51, 22.33s/it]"
     ]
    },
    {
     "name": "stdout",
     "output_type": "stream",
     "text": [
      "Round 45 | Val Acc: 80.76% | Val Loss: 0.5965 | Test Acc: 80.20% | Test Loss: 0.5937 | Round Time: 15.185s | Active Neurons: 19.96% | Drop Rate: 0.75\n"
     ]
    },
    {
     "name": "stderr",
     "output_type": "stream",
     "text": [
      "\r",
      "Federated Rounds:  92%|█████████▏| 46/50 [17:24<01:29, 22.41s/it]"
     ]
    },
    {
     "name": "stdout",
     "output_type": "stream",
     "text": [
      "Round 46 | Val Acc: 79.66% | Val Loss: 0.6167 | Test Acc: 79.78% | Test Loss: 0.6125 | Round Time: 14.592s | Active Neurons: 20.00% | Drop Rate: 0.72\n"
     ]
    },
    {
     "name": "stderr",
     "output_type": "stream",
     "text": [
      "\r",
      "Federated Rounds:  94%|█████████▍| 47/50 [17:46<01:06, 22.32s/it]"
     ]
    },
    {
     "name": "stdout",
     "output_type": "stream",
     "text": [
      "Round 47 | Val Acc: 77.96% | Val Loss: 0.6308 | Test Acc: 77.90% | Test Loss: 0.6296 | Round Time: 14.638s | Active Neurons: 19.95% | Drop Rate: 0.68\n"
     ]
    },
    {
     "name": "stderr",
     "output_type": "stream",
     "text": [
      "\r",
      "Federated Rounds:  96%|█████████▌| 48/50 [18:08<00:44, 22.25s/it]"
     ]
    },
    {
     "name": "stdout",
     "output_type": "stream",
     "text": [
      "Round 48 | Val Acc: 82.26% | Val Loss: 0.5687 | Test Acc: 81.96% | Test Loss: 0.5669 | Round Time: 15.007s | Active Neurons: 20.00% | Drop Rate: 0.65\n"
     ]
    },
    {
     "name": "stderr",
     "output_type": "stream",
     "text": [
      "\r",
      "Federated Rounds:  98%|█████████▊| 49/50 [18:31<00:22, 22.30s/it]"
     ]
    },
    {
     "name": "stdout",
     "output_type": "stream",
     "text": [
      "Round 49 | Val Acc: 82.60% | Val Loss: 0.5702 | Test Acc: 82.30% | Test Loss: 0.5715 | Round Time: 14.407s | Active Neurons: 20.00% | Drop Rate: 0.71\n"
     ]
    },
    {
     "name": "stderr",
     "output_type": "stream",
     "text": [
      "Federated Rounds: 100%|██████████| 50/50 [18:53<00:00, 22.66s/it]"
     ]
    },
    {
     "name": "stdout",
     "output_type": "stream",
     "text": [
      "Round 50 | Val Acc: 81.38% | Val Loss: 0.5671 | Test Acc: 80.88% | Test Loss: 0.5692 | Round Time: 14.822s | Active Neurons: 19.97% | Drop Rate: 0.68\n"
     ]
    },
    {
     "name": "stderr",
     "output_type": "stream",
     "text": [
      "\n"
     ]
    },
    {
     "data": {
      "image/png": "[encoded data removed]",
      "text/plain": [
       "<Figure size 1000x500 with 1 Axes>"
      ]
     },
     "metadata": {},
     "output_type": "display_data"
    },
    {
     "data": {
      "image/png": "[encoded data removed]",
      "text/plain": [
       "<Figure size 1000x500 with 1 Axes>"
      ]
     },
     "metadata": {},
     "output_type": "display_data"
    },
    {
     "data": {
      "image/png": "[encoded data removed]",
      "text/plain": [
       "<Figure size 1000x500 with 1 Axes>"
      ]
     },
     "metadata": {},
     "output_type": "display_data"
    },
    {
     "name": "stdout",
     "output_type": "stream",
     "text": [
      "\n",
      "✅ Final Metrics:\n",
      "Final Validation Accuracy: 81.38%\n",
      "Final Test Accuracy: 80.88%\n",
      "Final Validation Loss: 0.5671\n",
      "Final Test Loss: 0.5692\n",
      "Communication Overhead: 98.82 MB\n",
      "Average Inference Time per Sample: 0.000571s\n",
      "Total Training Time: 18.89 minutes\n",
      "Final Active Neurons: 19.97%\n",
      "Communication Reduction: 20.01%\n"
     ]
    }
   ],
   "source": [
    "import torch\n",
    "import torch.nn as nn\n",
    "import torch.nn.functional as F\n",
    "import torch.optim as optim\n",
    "from tqdm import tqdm\n",
    "import time\n",
    "import numpy as np\n",
    "import matplotlib.pyplot as plt\n",
    "from torch.utils.data import DataLoader, random_split\n",
    "import copy\n",
    "\n",
    "# -----------------------------\n",
    "# 0. Define Hyperparameters\n",
    "# -----------------------------\n",
    "\n",
    "NUM_CLIENTS = 5\n",
    "NUM_ROUNDS = 50\n",
    "LOCAL_EPOCHS = 3\n",
    "LR = 0.01\n",
    "BATCH_SIZE = 32\n",
    "\n",
    "# DynDrop specific hyperparameters - More aggressive pruning\n",
    "INITIAL_DROP_RATE = 0.3     #  initial dropout rate\n",
    "IMPORTANCE_THRESHOLD = 0.05 # Lower threshold for neuron importance\n",
    "EVAL_FREQUENCY = 3          # Evaluate neurons more frequently\n",
    "MIN_NEURONS_PERCENT = 0.15  # Lower minimum percentage of neurons to keep\n",
    "ADAPTIVE_RATE = True        # Whether to adapt the drop rate based on validation performance\n",
    "PRUNE_THRESHOLD_FACTOR = 1.5 # Factor to determine pruning threshold\n",
    "\n",
    "# Use GPU if available\n",
    "device = torch.device(\"cuda\" if torch.cuda.is_available() else \"cpu\")\n",
    "\n",
    "# -----------------------------\n",
    "# 1. Define Model with Dynamic Neuron Dropping\n",
    "# -----------------------------\n",
    "\n",
    "class DynDropLayer(nn.Module):\n",
    "    def __init__(self, layer, layer_type):\n",
    "        super(DynDropLayer, self).__init__()\n",
    "        self.layer = layer\n",
    "        self.layer_type = layer_type  # 'conv' or 'fc'\n",
    "\n",
    "        # For tracking neuron importance\n",
    "        self.register_buffer('importance_scores', torch.ones(self.get_num_neurons()))\n",
    "        self.register_buffer('active_neurons', torch.ones(self.get_num_neurons(), dtype=torch.bool))\n",
    "\n",
    "        # Keep track of samples seen for importance tracking\n",
    "        self.samples_seen = 0\n",
    "        self.drop_rate = INITIAL_DROP_RATE\n",
    "\n",
    "        # For gradient-based importance\n",
    "        self.gradient_accumulation = None\n",
    "        self.param_magnitude = None\n",
    "\n",
    "    def get_num_neurons(self):\n",
    "        if self.layer_type == 'conv':\n",
    "            return self.layer.out_channels\n",
    "        else:  # fc\n",
    "            return self.layer.out_features\n",
    "\n",
    "    def forward(self, x):\n",
    "        # Original layer forward pass\n",
    "        output = self.layer(x)\n",
    "\n",
    "        # In training mode, we compute importances and drop neurons\n",
    "        if self.training:\n",
    "            self.samples_seen += x.size(0)\n",
    "\n",
    "            # Calculate neuron importances every EVAL_FREQUENCY batches\n",
    "            if self.samples_seen % (EVAL_FREQUENCY * BATCH_SIZE) == 0:\n",
    "                self._update_importance_scores(output)\n",
    "                self._drop_neurons()\n",
    "\n",
    "                # Register hook for gradient-based importance if first time\n",
    "                if self.gradient_accumulation is None and hasattr(self.layer, 'weight'):\n",
    "                    # Initialize accumulation to match parameter shape\n",
    "                    self.gradient_accumulation = torch.zeros_like(self.layer.weight.data)\n",
    "                    self.param_magnitude = self.layer.weight.data.abs().clone()\n",
    "\n",
    "                    # Register hook to capture gradients\n",
    "                    def hook_fn(grad):\n",
    "                        self.gradient_accumulation.add_(grad.abs())\n",
    "\n",
    "                    self.layer.weight.register_hook(hook_fn)\n",
    "\n",
    "        # Apply neuron masking (training and inference)\n",
    "        if self.layer_type == 'conv':\n",
    "            # For conv layers, mask is applied to the output channels\n",
    "            mask = self.active_neurons.view(1, -1, 1, 1).to(output.device)\n",
    "            return output * mask\n",
    "        else:  # fc\n",
    "            # For FC layers, mask is applied to the output features\n",
    "            mask = self.active_neurons.to(output.device)\n",
    "            return output * mask.view(1, -1)\n",
    "\n",
    "    def _update_importance_scores(self, output):\n",
    "        \"\"\"Update importance scores based on activation patterns and gradients\"\"\"\n",
    "        with torch.no_grad():\n",
    "            # 1. Activation-based importance\n",
    "            if self.layer_type == 'conv':\n",
    "                # For conv layers: [B, C, H, W] -> [C]\n",
    "                activations = output.abs().mean(dim=[0, 2, 3])\n",
    "            else:  # fc\n",
    "                # For FC layers: [B, F] -> [F]\n",
    "                activations = output.abs().mean(dim=0)\n",
    "\n",
    "            # Normalize activations\n",
    "            if torch.sum(activations) > 0:\n",
    "                activations = activations / torch.sum(activations) * activations.numel()\n",
    "\n",
    "            # 2. Gradient-based importance (if available)\n",
    "            grad_importance = None\n",
    "            if self.gradient_accumulation is not None:\n",
    "                # For convolutional layers: average across in_channels, kernel_h, kernel_w\n",
    "                if self.layer_type == 'conv':\n",
    "                    grad_magnitude = self.gradient_accumulation.abs().mean(dim=[1, 2, 3])\n",
    "                    weight_magnitude = self.param_magnitude.abs().mean(dim=[1, 2, 3])\n",
    "                # For fully connected: average across in_features\n",
    "                else:  # fc\n",
    "                    grad_magnitude = self.gradient_accumulation.abs().mean(dim=1)\n",
    "                    weight_magnitude = self.param_magnitude.abs().mean(dim=1)\n",
    "\n",
    "                # Importance = gradient magnitude × weight magnitude\n",
    "                grad_importance = grad_magnitude * weight_magnitude\n",
    "\n",
    "                # Normalize\n",
    "                if torch.sum(grad_importance) > 0:\n",
    "                    grad_importance = grad_importance / torch.sum(grad_importance) * grad_importance.numel()\n",
    "\n",
    "            # 3. Combine importance metrics\n",
    "            if grad_importance is not None:\n",
    "                # 70% activation-based, 30% gradient-based\n",
    "                combined_importance = 0.7 * activations + 0.3 * grad_importance\n",
    "            else:\n",
    "                combined_importance = activations\n",
    "\n",
    "            # Update importance scores with moving average - faster adaptation\n",
    "            self.importance_scores = 0.6 * self.importance_scores + 0.4 * combined_importance\n",
    "\n",
    "            # Reset gradient accumulation periodically\n",
    "            if self.gradient_accumulation is not None and self.samples_seen % (10 * EVAL_FREQUENCY * BATCH_SIZE) == 0:\n",
    "                self.gradient_accumulation.zero_()\n",
    "\n",
    "    def _drop_neurons(self):\n",
    "        \"\"\"Dynamically drop neurons based on importance scores\"\"\"\n",
    "        with torch.no_grad():\n",
    "            # Ensure we keep at least MIN_NEURONS_PERCENT of neurons\n",
    "            num_neurons = self.get_num_neurons()\n",
    "            min_neurons = max(1, int(num_neurons * MIN_NEURONS_PERCENT))\n",
    "\n",
    "            # Calculate threshold based on importance distribution\n",
    "            mean_importance = torch.mean(self.importance_scores)\n",
    "            std_importance = torch.std(self.importance_scores)\n",
    "            dynamic_threshold = mean_importance - PRUNE_THRESHOLD_FACTOR * std_importance\n",
    "\n",
    "            # Get indices of neurons with importance below threshold\n",
    "            neurons_to_drop = torch.where(self.importance_scores < dynamic_threshold)[0]\n",
    "\n",
    "            # Limit to maximum drop rate\n",
    "            max_to_drop = int(num_neurons * self.drop_rate)\n",
    "            if len(neurons_to_drop) > max_to_drop:\n",
    "                # Sort and keep only the max_to_drop least important\n",
    "                _, indices = torch.topk(self.importance_scores[neurons_to_drop],\n",
    "                                      k=len(neurons_to_drop) - max_to_drop,\n",
    "                                      largest=True)\n",
    "                neurons_to_drop = neurons_to_drop[indices]\n",
    "\n",
    "            # Ensure we don't drop too many neurons\n",
    "            if len(neurons_to_drop) > (num_neurons - min_neurons):\n",
    "                # Keep only the least important ones up to our limit\n",
    "                sorted_indices = torch.argsort(self.importance_scores)\n",
    "                neurons_to_drop = sorted_indices[:num_neurons - min_neurons]\n",
    "\n",
    "            # Reset active neurons\n",
    "            self.active_neurons.fill_(True)\n",
    "\n",
    "            # Drop the selected neurons\n",
    "            if len(neurons_to_drop) > 0:\n",
    "                self.active_neurons[neurons_to_drop] = False\n",
    "\n",
    "    def reset_active_neurons(self):\n",
    "        \"\"\"Reset all neurons to active state\"\"\"\n",
    "        self.active_neurons.fill_(True)\n",
    "\n",
    "    def get_active_mask(self):\n",
    "        \"\"\"Return mask of active neurons for communications\"\"\"\n",
    "        return self.active_neurons.clone()\n",
    "\n",
    "    def get_pruned_weights(self):\n",
    "        \"\"\"Return only weights for active neurons (for reduced communication)\"\"\"\n",
    "        if self.layer_type == 'conv':\n",
    "            # For convolutional layers, we need to prune filters\n",
    "            # Return: weight, bias for active neurons only\n",
    "            weight = self.layer.weight[self.active_neurons].clone()\n",
    "            bias = None if self.layer.bias is None else self.layer.bias[self.active_neurons].clone()\n",
    "            return weight, bias\n",
    "        else:  # fc\n",
    "            # For FC layers, we need to prune output neurons\n",
    "            # Return: weight, bias for active neurons only\n",
    "            weight = self.layer.weight[self.active_neurons].clone()\n",
    "            bias = None if self.layer.bias is None else self.layer.bias[self.active_neurons].clone()\n",
    "            return weight, bias\n",
    "\n",
    "    def set_drop_rate(self, new_rate):\n",
    "        \"\"\"Set a new dropout rate\"\"\"\n",
    "        self.drop_rate = new_rate\n",
    "\n",
    "\n",
    "class CNNModelDynDrop(nn.Module):\n",
    "    def __init__(self):\n",
    "        super(CNNModelDynDrop, self).__init__()\n",
    "        # Create base layers\n",
    "        conv1 = nn.Conv2d(1, 32, kernel_size=5)\n",
    "        conv2 = nn.Conv2d(32, 64, kernel_size=5)\n",
    "        fc1 = nn.Linear(1024, 200)\n",
    "        fc2 = nn.Linear(200, 10)\n",
    "\n",
    "        # Wrap with DynDrop layers\n",
    "        self.conv1 = DynDropLayer(conv1, 'conv')\n",
    "        self.conv2 = DynDropLayer(conv2, 'conv')\n",
    "        self.fc1 = DynDropLayer(fc1, 'fc')\n",
    "        self.fc2 = fc2  # No dynamic dropping for output layer\n",
    "\n",
    "        # List of all dyndrop layers\n",
    "        self.dyndrop_layers = [self.conv1, self.conv2, self.fc1]\n",
    "\n",
    "    def forward(self, x):\n",
    "        x = F.relu(F.max_pool2d(self.conv1(x), 2))\n",
    "        x = F.relu(F.max_pool2d(self.conv2(x), 2))\n",
    "        x = x.view(-1, 1024)\n",
    "        x = F.relu(self.fc1(x))\n",
    "        x = self.fc2(x)\n",
    "        return x\n",
    "\n",
    "    def reset_all_neurons(self):\n",
    "        \"\"\"Reset all neurons to active for a new round\"\"\"\n",
    "        for layer in self.dyndrop_layers:\n",
    "            layer.reset_active_neurons()\n",
    "\n",
    "    def set_drop_rate(self, rate):\n",
    "        \"\"\"Set dropout rate for all layers\"\"\"\n",
    "        for layer in self.dyndrop_layers:\n",
    "            layer.set_drop_rate(rate)\n",
    "\n",
    "    def get_active_neuron_masks(self):\n",
    "        \"\"\"Get active neuron masks for all layers\"\"\"\n",
    "        return {f\"layer_{i}\": layer.get_active_mask() for i, layer in enumerate(self.dyndrop_layers)}\n",
    "\n",
    "\n",
    "# -----------------------------\n",
    "# 2. Client Training Function with Dynamic Dropping\n",
    "# -----------------------------\n",
    "\n",
    "def train_client(model, dataloader, epochs, lr, device):\n",
    "    model.train()\n",
    "    criterion = nn.CrossEntropyLoss()\n",
    "    optimizer = optim.SGD(model.parameters(), lr=lr)\n",
    "    start_time = time.time()\n",
    "\n",
    "    # Reset neuron activity for the client\n",
    "    if isinstance(model, CNNModelDynDrop):\n",
    "        model.reset_all_neurons()\n",
    "\n",
    "    for epoch in range(epochs):\n",
    "        for images, labels in dataloader:\n",
    "            images, labels = images.to(device), labels.to(device)\n",
    "            optimizer.zero_grad()\n",
    "            outputs = model(images)\n",
    "            loss = criterion(outputs, labels)\n",
    "            loss.backward()\n",
    "            optimizer.step()\n",
    "\n",
    "    total_time = time.time() - start_time\n",
    "\n",
    "    # For DynDrop models, we need to return the active neuron masks as well\n",
    "    if isinstance(model, CNNModelDynDrop):\n",
    "        active_masks = model.get_active_neuron_masks()\n",
    "        return model.state_dict(), active_masks, total_time\n",
    "    else:\n",
    "        return model.state_dict(), None, total_time\n",
    "\n",
    "\n",
    "# -----------------------------\n",
    "# 3. Server Aggregation with Dynamic Neuron Dropping\n",
    "# -----------------------------\n",
    "\n",
    "def average_models_dyndrop(global_model, client_states, client_masks):\n",
    "    \"\"\"Aggregate client models with consideration for dynamically dropped neurons\"\"\"\n",
    "    global_state_dict = global_model.state_dict()\n",
    "    averaged_state = {}\n",
    "\n",
    "    # Process normal parameters (non-DynDrop layers)\n",
    "    for key in global_state_dict.keys():\n",
    "        # Skip DynDrop buffer parameters\n",
    "        if 'importance_scores' in key or 'active_neurons' in key:\n",
    "            continue\n",
    "\n",
    "        # For output layer and other non-pruned layers\n",
    "        if not any(dyndrop_layer in key for dyndrop_layer in ['conv1', 'conv2', 'fc1']):\n",
    "            params = torch.stack([state[key] for state in client_states])\n",
    "            averaged_state[key] = torch.mean(params, dim=0)\n",
    "\n",
    "    # Process DynDrop layers with consideration for dropped neurons\n",
    "    # For each DynDrop layer\n",
    "    for layer_idx, layer_name in enumerate(['conv1', 'conv2', 'fc1']):\n",
    "        # Collect layer masks from all clients\n",
    "        layer_masks = [masks[f\"layer_{layer_idx}\"] for masks in client_masks]\n",
    "\n",
    "        # Count how many clients kept each neuron\n",
    "        neuron_counts = sum(layer_masks)\n",
    "\n",
    "        # Ensure we don't divide by zero - if a neuron was dropped by all clients, keep global weights\n",
    "        neuron_counts = torch.clamp(neuron_counts, min=1)\n",
    "\n",
    "        # For each parameter in this layer\n",
    "        for param_type in ['weight', 'bias']:\n",
    "            param_name = f\"{layer_name}.layer.{param_type}\"\n",
    "            if param_name in global_state_dict:\n",
    "                # Initialize with zeros\n",
    "                averaged_param = torch.zeros_like(global_state_dict[param_name])\n",
    "\n",
    "                # For each client, add its contribution to neurons it kept active\n",
    "                for client_idx, state in enumerate(client_states):\n",
    "                    mask = layer_masks[client_idx]\n",
    "                    if param_type == 'weight':\n",
    "                        # For weights: [out_features, in_features]\n",
    "                        if layer_name.startswith('conv'):\n",
    "                            # For conv: [out_channels, in_channels, kernel_h, kernel_w]\n",
    "                            # Apply mask to out_channels dimension\n",
    "                            averaged_param[mask] += state[param_name][mask]\n",
    "                        else:  # fc\n",
    "                            # For FC: [out_features, in_features]\n",
    "                            # Apply mask to out_features dimension\n",
    "                            averaged_param[mask] += state[param_name][mask]\n",
    "                    else:  # bias\n",
    "                        # For bias: [out_features]\n",
    "                        # Apply mask directly\n",
    "                        if state[param_name] is not None:\n",
    "                            averaged_param[mask] += state[param_name][mask]\n",
    "\n",
    "                # Average by dividing by the count of clients that kept each neuron\n",
    "                if param_type == 'weight':\n",
    "                    if layer_name.startswith('conv'):\n",
    "                        # For conv layers: apply to out_channels\n",
    "                        averaged_param = averaged_param / neuron_counts.view(-1, 1, 1, 1)\n",
    "                    else:  # fc\n",
    "                        # For FC layers: apply to out_features\n",
    "                        averaged_param = averaged_param / neuron_counts.view(-1, 1)\n",
    "                else:  # bias\n",
    "                    # For bias: apply directly\n",
    "                    if averaged_param is not None:\n",
    "                        averaged_param = averaged_param / neuron_counts\n",
    "\n",
    "                averaged_state[param_name] = averaged_param\n",
    "\n",
    "    # Update global model with averaged parameters\n",
    "    global_model.load_state_dict(averaged_state, strict=False)\n",
    "\n",
    "\n",
    "# -----------------------------\n",
    "# 4. Evaluation Function (Unchanged)\n",
    "# -----------------------------\n",
    "\n",
    "def evaluate_model(model, dataloader, device):\n",
    "    model.eval()\n",
    "    correct = 0\n",
    "    total = 0\n",
    "    loss_total = 0.0\n",
    "    inference_times = []\n",
    "\n",
    "    with torch.no_grad():\n",
    "        for images, labels in dataloader:\n",
    "            images, labels = images.to(device), labels.to(device)\n",
    "            start_time = time.time()\n",
    "            outputs = model(images)\n",
    "            inference_times.append(time.time() - start_time)\n",
    "            loss_total += nn.CrossEntropyLoss()(outputs, labels).item() * images.size(0)\n",
    "            _, predicted = torch.max(outputs.data, 1)\n",
    "            total += labels.size(0)\n",
    "            correct += (predicted == labels).sum().item()\n",
    "\n",
    "    accuracy = 100 * correct / total\n",
    "    loss_avg = loss_total / total\n",
    "    avg_batch_inference_time = np.mean(inference_times)\n",
    "    return accuracy, loss_avg, avg_batch_inference_time\n",
    "\n",
    "\n",
    "# -----------------------------\n",
    "# 5. Initialize Global Model\n",
    "# -----------------------------\n",
    "\n",
    "global_model = CNNModelDynDrop().to(device)\n",
    "\n",
    "# -----------------------------\n",
    "# 6. Track Metrics\n",
    "# -----------------------------\n",
    "\n",
    "val_accuracies = []\n",
    "test_accuracies = []\n",
    "val_losses = []\n",
    "test_losses = []\n",
    "round_training_times = []\n",
    "communication_overhead_total = 0\n",
    "active_neuron_percentages = []  # Track what percentage of neurons stay active\n",
    "\n",
    "# -----------------------------\n",
    "# 7. Communication Cost Estimation with Dynamic Dropping\n",
    "# -----------------------------\n",
    "\n",
    "# We'll compress model parameters further with quantization\n",
    "def calculate_comm_cost_dyndrop(model, active_masks=None):\n",
    "    \"\"\"Calculates communication cost with dynamic neuron dropping and quantization\"\"\"\n",
    "    # Quantization bit width (using 8-bit instead of 32-bit float)\n",
    "    quant_bits = 8\n",
    "    bytes_per_param = quant_bits / 8  # 1 byte per param with 8-bit quantization\n",
    "\n",
    "    total_params = 0\n",
    "\n",
    "    # If no active masks provided (e.g., initial model), count all parameters\n",
    "    if active_masks is None:\n",
    "        return sum(p.numel() for p in model.parameters()) * bytes_per_param\n",
    "\n",
    "    # Otherwise, count only active neurons plus mask overhead\n",
    "    state_dict = model.state_dict()\n",
    "    dyndrop_layers = ['conv1', 'conv2', 'fc1']\n",
    "\n",
    "    # Count parameters in non-DynDrop layers\n",
    "    for name, param in model.named_parameters():\n",
    "        if not any(layer in name for layer in dyndrop_layers):\n",
    "            total_params += param.numel()\n",
    "\n",
    "    # Count parameters in DynDrop layers based on active neurons\n",
    "    for layer_idx, layer_name in enumerate(dyndrop_layers):\n",
    "        mask = active_masks[f\"layer_{layer_idx}\"]\n",
    "        active_count = torch.sum(mask).item()\n",
    "\n",
    "        # Count active weights and biases\n",
    "        if layer_name.startswith('conv'):\n",
    "            # For conv layer:\n",
    "            in_channels = state_dict[f\"{layer_name}.layer.weight\"].size(1)\n",
    "            kernel_size = state_dict[f\"{layer_name}.layer.weight\"].size(2)\n",
    "            # Weight params: out_channels * in_channels * kernel_h * kernel_w\n",
    "            total_params += active_count * in_channels * kernel_size * kernel_size\n",
    "            # Bias params: out_channels\n",
    "            if f\"{layer_name}.layer.bias\" in state_dict:\n",
    "                total_params += active_count\n",
    "        else:  # fc\n",
    "            # For FC layer:\n",
    "            in_features = state_dict[f\"{layer_name}.layer.weight\"].size(1)\n",
    "            # Weight params: out_features * in_features\n",
    "            total_params += active_count * in_features\n",
    "            # Bias params: out_features\n",
    "            if f\"{layer_name}.layer.bias\" in state_dict:\n",
    "                total_params += active_count\n",
    "\n",
    "    # Add cost for transmitting the binary masks\n",
    "    # Each mask is a binary tensor with size equal to the number of neurons in the layer\n",
    "    mask_bits = sum(mask.numel() for mask in active_masks.values())\n",
    "    mask_bytes = (mask_bits + 7) // 8  # Convert bits to bytes, rounding up\n",
    "\n",
    "    # Apply sparsity encoding - we only send indices + values of non-zero elements\n",
    "    # For sparse matrices, this can significantly reduce communication costs\n",
    "    sparsity_factor = 0.6  # Estimated compression from sparsity encoding\n",
    "\n",
    "    # Apply quantization and sparsity to reduce communication cost\n",
    "    return total_params * bytes_per_param * sparsity_factor + mask_bytes\n",
    "\n",
    "\n",
    "# -----------------------------\n",
    "# 8. Split Test Set into Validation and Final Test\n",
    "# -----------------------------\n",
    "\n",
    "val_size = len(test_dataset) // 2\n",
    "test_size = len(test_dataset) - val_size\n",
    "val_dataset, test_dataset_final = random_split(test_dataset, [val_size, test_size])\n",
    "\n",
    "val_loader = DataLoader(val_dataset, batch_size=BATCH_SIZE, shuffle=False)\n",
    "test_loader_final = DataLoader(test_dataset_final, batch_size=BATCH_SIZE, shuffle=False)\n",
    "\n",
    "# -----------------------------\n",
    "# 9. Federated Training Loop with Dynamic Dropping\n",
    "# -----------------------------\n",
    "\n",
    "total_training_time_start = time.time()\n",
    "best_val_acc = 0.0\n",
    "current_drop_rate = INITIAL_DROP_RATE\n",
    "\n",
    "for round_num in tqdm(range(NUM_ROUNDS), desc=\"Federated Rounds\"):\n",
    "    client_states = []\n",
    "    client_masks = []\n",
    "    round_time = 0.0\n",
    "    round_comm_cost = 0\n",
    "\n",
    "    # Train each client\n",
    "    for client_id in range(NUM_CLIENTS):\n",
    "        client_model = CNNModelDynDrop().to(device)\n",
    "        client_model.load_state_dict(global_model.state_dict())\n",
    "\n",
    "        # Set current drop rate\n",
    "        client_model.set_drop_rate(current_drop_rate)\n",
    "\n",
    "        # Train the client model\n",
    "        state, active_masks, client_time = train_client(\n",
    "            client_model, client_loaders[client_id], LOCAL_EPOCHS, LR, device\n",
    "        )\n",
    "\n",
    "        # Calculate communication cost for this client\n",
    "        client_comm_cost = calculate_comm_cost_dyndrop(client_model, active_masks)\n",
    "        round_comm_cost += client_comm_cost\n",
    "\n",
    "        # Store client results\n",
    "        client_states.append(state)\n",
    "        client_masks.append(active_masks)\n",
    "        round_time += client_time\n",
    "\n",
    "    # Add server → client communication cost (full model)\n",
    "    round_comm_cost += calculate_comm_cost_dyndrop(global_model) * NUM_CLIENTS\n",
    "\n",
    "    # Track total communication overhead\n",
    "    communication_overhead_total += round_comm_cost\n",
    "\n",
    "    # Calculate percentage of active neurons\n",
    "    active_neuron_count = 0\n",
    "    total_neuron_count = 0\n",
    "    for masks in client_masks:\n",
    "        for mask in masks.values():\n",
    "            active_neuron_count += torch.sum(mask).item()\n",
    "            total_neuron_count += mask.numel()\n",
    "\n",
    "    active_percent = 100 * active_neuron_count / (total_neuron_count * NUM_CLIENTS)\n",
    "    active_neuron_percentages.append(active_percent)\n",
    "\n",
    "    # Aggregate models with dynamic dropping consideration\n",
    "    average_models_dyndrop(global_model, client_states, client_masks)\n",
    "\n",
    "    # Evaluate\n",
    "    val_acc, val_loss, _ = evaluate_model(global_model, val_loader, device)\n",
    "    test_acc, test_loss, _ = evaluate_model(global_model, test_loader_final, device)\n",
    "\n",
    "    # Adaptive drop rate based on validation performance (optional)\n",
    "    if ADAPTIVE_RATE:\n",
    "        if val_acc > best_val_acc:\n",
    "            best_val_acc = val_acc\n",
    "            # If accuracy is improving, we can be more aggressive with dropping\n",
    "            current_drop_rate = min(0.8, current_drop_rate * 1.1)\n",
    "        else:\n",
    "            # If accuracy is stagnant/decreasing, reduce drop rate slightly\n",
    "            current_drop_rate = max(0.4, current_drop_rate * 0.95)\n",
    "\n",
    "        # Update drop rate in global model\n",
    "        global_model.set_drop_rate(current_drop_rate)\n",
    "\n",
    "    # Store metrics\n",
    "    val_accuracies.append(val_acc)\n",
    "    val_losses.append(val_loss)\n",
    "    test_accuracies.append(test_acc)\n",
    "    test_losses.append(test_loss)\n",
    "    round_training_times.append(round_time)\n",
    "\n",
    "    # Print per-round metrics\n",
    "    print(f\"Round {round_num+1} | Val Acc: {val_acc:.2f}% | Val Loss: {val_loss:.4f} | \"\n",
    "          f\"Test Acc: {test_acc:.2f}% | Test Loss: {test_loss:.4f} | Round Time: {round_time:.3f}s | \"\n",
    "          f\"Active Neurons: {active_percent:.2f}% | Drop Rate: {current_drop_rate:.2f}\")\n",
    "\n",
    "# -----------------------------\n",
    "# 10. Final Metrics\n",
    "# -----------------------------\n",
    "\n",
    "total_training_time = time.time() - total_training_time_start\n",
    "avg_batch_inference_time = np.mean([evaluate_model(global_model, test_loader_final, device)[2] for _ in range(5)])\n",
    "avg_inference_time_per_sample = avg_batch_inference_time / BATCH_SIZE\n",
    "\n",
    "# -----------------------------\n",
    "# 11. Plot Accuracy, Loss and Active Neuron Curves\n",
    "# -----------------------------\n",
    "\n",
    "rounds = list(range(1, NUM_ROUNDS + 1))\n",
    "\n",
    "plt.figure(figsize=(10, 5))\n",
    "plt.plot(rounds, val_accuracies, label='Validation Accuracy', marker='o')\n",
    "plt.plot(rounds, test_accuracies, label='Test Accuracy', marker='s')\n",
    "plt.title('Validation vs Test Accuracy Over Federated Rounds')\n",
    "plt.xlabel('Rounds')\n",
    "plt.ylabel('Accuracy (%)')\n",
    "plt.legend()\n",
    "plt.grid(True)\n",
    "plt.tight_layout()\n",
    "plt.show()\n",
    "\n",
    "plt.figure(figsize=(10, 5))\n",
    "plt.plot(rounds, val_losses, label='Validation Loss', marker='o')\n",
    "plt.plot(rounds, test_losses, label='Test Loss', marker='s')\n",
    "plt.title('Validation vs Test Loss Over Federated Rounds')\n",
    "plt.xlabel('Rounds')\n",
    "plt.ylabel('Loss')\n",
    "plt.legend()\n",
    "plt.grid(True)\n",
    "plt.tight_layout()\n",
    "plt.show()\n",
    "\n",
    "plt.figure(figsize=(10, 5))\n",
    "plt.plot(rounds, active_neuron_percentages, label='Active Neurons', marker='o')\n",
    "plt.title('Percentage of Active Neurons Over Federated Rounds')\n",
    "plt.xlabel('Rounds')\n",
    "plt.ylabel('Active Neurons (%)')\n",
    "plt.ylim(0, 100)\n",
    "plt.legend()\n",
    "plt.grid(True)\n",
    "plt.tight_layout()\n",
    "plt.show()\n",
    "\n",
    "# -----------------------------\n",
    "# 12. Output Final Metrics\n",
    "# -----------------------------\n",
    "\n",
    "print(\"\\n✅ Final Metrics:\")\n",
    "print(f\"Final Validation Accuracy: {val_accuracies[-1]:.2f}%\")\n",
    "print(f\"Final Test Accuracy: {test_accuracies[-1]:.2f}%\")\n",
    "print(f\"Final Validation Loss: {val_losses[-1]:.4f}\")\n",
    "print(f\"Final Test Loss: {test_losses[-1]:.4f}\")\n",
    "print(f\"Communication Overhead: {communication_overhead_total / (1024 ** 2):.2f} MB\")\n",
    "print(f\"Average Inference Time per Sample: {avg_inference_time_per_sample:.6f}s\")\n",
    "print(f\"Total Training Time: {total_training_time / 60:.2f} minutes\")\n",
    "print(f\"Final Active Neurons: {active_neuron_percentages[-1]:.2f}%\")\n",
    "print(f\"Communication Reduction: {100 * (1 - communication_overhead_total / (calculate_comm_cost_dyndrop(global_model) * NUM_CLIENTS * NUM_ROUNDS * 2)):.2f}%\")"
   ]
  }
 ],
 "metadata": {
  "colab": {
   "provenance": []
  },
  "kernelspec": {
   "display_name": "Python 3 (ipykernel)",
   "language": "python",
   "name": "python3"
  },
  "language_info": {
   "codemirror_mode": {
    "name": "ipython",
    "version": 3
   },
   "file_extension": ".py",
   "mimetype": "text/x-python",
   "name": "python",
   "nbconvert_exporter": "python",
   "pygments_lexer": "ipython3",
   "version": "3.12.7"
  }
 },
 "nbformat": 4,
 "nbformat_minor": 4
}
